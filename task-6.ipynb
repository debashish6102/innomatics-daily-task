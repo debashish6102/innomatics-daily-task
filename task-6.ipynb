{
 "cells": [
  {
   "cell_type": "markdown",
   "id": "c0add936-3ceb-4981-ab32-c31127f0c412",
   "metadata": {},
   "source": [
    "## Q1 You are given a space separated list of numbers.Your task is to print a reversed NumPy array with the element type float. \n",
    "link-https://www.hackerrank.com/challenges/np-arrays/problem"
   ]
  },
  {
   "cell_type": "code",
   "execution_count": 1,
   "id": "4a536e1d-4087-4748-a57a-0b2c0013acf4",
   "metadata": {},
   "outputs": [
    {
     "name": "stdin",
     "output_type": "stream",
     "text": [
      " 1 2 3 4 5 6 7 8 9\n"
     ]
    },
    {
     "name": "stdout",
     "output_type": "stream",
     "text": [
      "[9. 8. 7. 6. 5. 4. 3. 2. 1.]\n"
     ]
    }
   ],
   "source": [
    "import numpy\n",
    "\n",
    "def arrays(arr):\n",
    "    # complete this function\n",
    "    # use numpy.array\n",
    "    arr=numpy.array(arr[::-1],float)\n",
    "    return arr\n",
    "        \n",
    "        \n",
    "\n",
    "arr = input().strip().split(' ')\n",
    "result = arrays(arr)\n",
    "print(result)"
   ]
  },
  {
   "cell_type": "markdown",
   "id": "a0873250-fff6-41b0-b5a9-973ee026b787",
   "metadata": {},
   "source": [
    "## Q2.You are given a space separated list of nine integers. Your task is to convert this list into a X NumPy array.\n",
    "link-https://www.hackerrank.com/challenges/np-shape-reshape/problem?isFullScreen=true"
   ]
  },
  {
   "cell_type": "code",
   "execution_count": 2,
   "id": "d2ddad24-f4bb-4c59-9079-48a8f468c3f3",
   "metadata": {},
   "outputs": [
    {
     "name": "stdin",
     "output_type": "stream",
     "text": [
      " 1 2 3 4 5 6 7 8 9\n"
     ]
    },
    {
     "name": "stdout",
     "output_type": "stream",
     "text": [
      "[[1 2 3]\n",
      " [4 5 6]\n",
      " [7 8 9]]\n"
     ]
    }
   ],
   "source": [
    "import numpy\n",
    "arr = input().strip().split(' ')\n",
    "arr=numpy.reshape(arr,(3,3))\n",
    "print(numpy.array(arr,int))"
   ]
  },
  {
   "cell_type": "markdown",
   "id": "2939e094-b698-4337-85f3-426e12a6ae6b",
   "metadata": {},
   "source": [
    "## Q3 You are given a X integer array matrix with space separated elements ( = rows and  = columns).Your task is to print the transpose and flatten results.\n",
    "link-https://www.hackerrank.com/challenges/np-transpose-and-flatten/problem?isFullScreen=true"
   ]
  },
  {
   "cell_type": "code",
   "execution_count": 3,
   "id": "95c9451a-15ea-47eb-aa16-1fd1ed3f35d8",
   "metadata": {},
   "outputs": [
    {
     "name": "stdin",
     "output_type": "stream",
     "text": [
      " 2 2 \n",
      " 1 3\n",
      " 3 4\n"
     ]
    },
    {
     "name": "stdout",
     "output_type": "stream",
     "text": [
      "[[1 3]\n",
      " [3 4]]\n",
      "[1 3 3 4]\n"
     ]
    }
   ],
   "source": [
    "import numpy\n",
    "n, m = map(int, input().split())\n",
    "array = numpy.array([input().strip().split() for _ in range(n)], int)\n",
    "print (array.transpose())\n",
    "print (array.flatten())\n",
    "\n",
    "\n"
   ]
  },
  {
   "cell_type": "markdown",
   "id": "f7ca33ea-4c10-4aba-83aa-bc298b223018",
   "metadata": {},
   "source": [
    "## Q4 You are given two integer arrays of size X and X ( &  are rows, and  is the column). Your task is to concatenate the arrays along axis .\n",
    "link-https://www.hackerrank.com/challenges/np-concatenate/problem?isFullScreen=true"
   ]
  },
  {
   "cell_type": "code",
   "execution_count": 7,
   "id": "48551765-e8ab-429a-81c1-9f84a27441e4",
   "metadata": {},
   "outputs": [
    {
     "name": "stdin",
     "output_type": "stream",
     "text": [
      " 1 1 2\n",
      " 1 3\n",
      " 1 5\n"
     ]
    },
    {
     "name": "stdout",
     "output_type": "stream",
     "text": [
      "[[1 3]\n",
      " [1 5]]\n"
     ]
    }
   ],
   "source": [
    "import numpy\n",
    "n,m,p=map(int,input().split())\n",
    "arr1=numpy.array([input().strip().split() for _ in range(n)], int)\n",
    "arr2=numpy.array([input().strip().split() for _ in range(m)], int)\n",
    "print (numpy.concatenate((arr1, arr2), axis = 0))"
   ]
  },
  {
   "cell_type": "markdown",
   "id": "a6a82e67-ac2e-4167-8de4-2ffdc5b813bc",
   "metadata": {},
   "source": [
    "## Q5 You are given the shape of the array in the form of space-separated integers, each integer representing the size of different dimensions, your task is to print an array of the given shape and integer type using the tools numpy.zeros and numpy.ones.\n",
    "link-https://www.hackerrank.com/challenges/np-zeros-and-ones/problem?isFullScreen=true"
   ]
  },
  {
   "cell_type": "code",
   "execution_count": 8,
   "id": "33754138-3d28-4076-b70b-e7ae3d579ca2",
   "metadata": {},
   "outputs": [
    {
     "name": "stdin",
     "output_type": "stream",
     "text": [
      " 3 3 3\n"
     ]
    },
    {
     "name": "stdout",
     "output_type": "stream",
     "text": [
      "[[[0 0 0]\n",
      "  [0 0 0]\n",
      "  [0 0 0]]\n",
      "\n",
      " [[0 0 0]\n",
      "  [0 0 0]\n",
      "  [0 0 0]]\n",
      "\n",
      " [[0 0 0]\n",
      "  [0 0 0]\n",
      "  [0 0 0]]]\n",
      "[[[1 1 1]\n",
      "  [1 1 1]\n",
      "  [1 1 1]]\n",
      "\n",
      " [[1 1 1]\n",
      "  [1 1 1]\n",
      "  [1 1 1]]\n",
      "\n",
      " [[1 1 1]\n",
      "  [1 1 1]\n",
      "  [1 1 1]]]\n"
     ]
    }
   ],
   "source": [
    "import numpy\n",
    "arr = input().strip().split(' ')\n",
    "arr=numpy.array(arr,int)\n",
    "print(numpy.zeros(arr,numpy.int64))\n",
    "print(numpy.ones(arr,numpy.int64))\n"
   ]
  },
  {
   "cell_type": "markdown",
   "id": "1ef5339a-0378-4612-b037-a511898b030f",
   "metadata": {},
   "source": [
    "## Q6 Your task is to print an array of size X with its main diagonal elements as 's and 's everywhere else.\n",
    "link=https://www.hackerrank.com/challenges/np-eye-and-identity/problem?isFullScreen=true"
   ]
  },
  {
   "cell_type": "code",
   "execution_count": 9,
   "id": "a615d8e7-3542-4c11-948c-21ab64d3c9e8",
   "metadata": {},
   "outputs": [
    {
     "name": "stdin",
     "output_type": "stream",
     "text": [
      " 3 3\n"
     ]
    },
    {
     "name": "stdout",
     "output_type": "stream",
     "text": [
      "[[ 1.  0.  0.]\n",
      " [ 0.  1.  0.]\n",
      " [ 0.  0.  1.]]\n"
     ]
    }
   ],
   "source": [
    "import numpy\n",
    "numpy.set_printoptions(legacy='1.13')\n",
    "n,m=map(int,input().split())\n",
    "print(numpy.eye(n,m))"
   ]
  },
  {
   "cell_type": "markdown",
   "id": "150137cc-a9f9-47fc-8706-c96d47af5518",
   "metadata": {},
   "source": [
    "## Q7 You are given two integer arrays,  and  of dimensions X.\n",
    "Your task is to perform the following operations:\n",
    "\n",
    "Add ( + )\n",
    "Subtract ( - )\n",
    "Multiply ( * )\n",
    "Integer Division ( / )\n",
    "Mod ( % )\n",
    "Power ( ** )\n",
    "link-https://www.hackerrank.com/challenges/np-array-mathematics/problem"
   ]
  },
  {
   "cell_type": "code",
   "execution_count": 10,
   "id": "00815575-c50a-479b-98a8-42528b1b1897",
   "metadata": {},
   "outputs": [
    {
     "name": "stdin",
     "output_type": "stream",
     "text": [
      " 1 4\n",
      " 1 2 3 4\n",
      " 5 6 7 8\n"
     ]
    },
    {
     "name": "stdout",
     "output_type": "stream",
     "text": [
      "[[ 6  8 10 12]]\n",
      "[[-4 -4 -4 -4]]\n",
      "[[ 5 12 21 32]]\n",
      "[[0 0 0 0]]\n",
      "[[1 2 3 4]]\n",
      "[[    1    64  2187 65536]]\n"
     ]
    }
   ],
   "source": [
    "import numpy\n",
    "n,m=map(int,input().split())\n",
    "arr1=numpy.array([input().strip().split() for _ in range(n)],int)\n",
    "arr2=numpy.array([input().strip().split() for _ in range(n)],int)\n",
    "print(arr1+arr2)\n",
    "print(arr1-arr2)\n",
    "print(arr1*arr2)\n",
    "print(arr1//arr2)\n",
    "print(arr1 % arr2)\n",
    "print(arr1**arr2)"
   ]
  },
  {
   "cell_type": "markdown",
   "id": "2ec45127-57a4-4651-9174-bd7519831136",
   "metadata": {},
   "source": [
    "## Q 8 You are given a 1-D array, . Your task is to print the floor ,ceil  and  of all the elements of .\n",
    "link-https://www.hackerrank.com/challenges/floor-ceil-and-rint/problem?isFullScreen=true"
   ]
  },
  {
   "cell_type": "code",
   "execution_count": 12,
   "id": "41672e36-d663-4a3d-93b9-82065c0f33e3",
   "metadata": {},
   "outputs": [
    {
     "name": "stdin",
     "output_type": "stream",
     "text": [
      " 1.1 2.2 3.3 4.4 5.5 6.6 7.7 8.8 9.9\n"
     ]
    },
    {
     "name": "stdout",
     "output_type": "stream",
     "text": [
      "[ 1.  2.  3.  4.  5.  6.  7.  8.  9.]\n",
      "[  2.   3.   4.   5.   6.   7.   8.   9.  10.]\n",
      "[  1.   2.   3.   4.   6.   7.   8.   9.  10.]\n"
     ]
    }
   ],
   "source": [
    "import numpy\n",
    "numpy.set_printoptions(legacy='1.13')\n",
    "arr=input().strip().split(' ')\n",
    "arr=numpy.array(arr,float)\n",
    "print(numpy.floor(arr))\n",
    "print(numpy.ceil(arr))\n",
    "print(numpy.rint((arr)))"
   ]
  },
  {
   "cell_type": "markdown",
   "id": "ac0e76ab-48aa-4f22-b9d1-c3e4753d083a",
   "metadata": {},
   "source": [
    "## Q9 You are given a 2-D array with dimensions X.Your task is to perform the  tool over axis  and then find the  of that result.\n",
    "link-https://www.hackerrank.com/challenges/np-sum-and-prod/problem?isFullScreen=true"
   ]
  },
  {
   "cell_type": "code",
   "execution_count": 13,
   "id": "188365c2-66ad-4fce-92c8-8f128561c858",
   "metadata": {},
   "outputs": [
    {
     "name": "stdin",
     "output_type": "stream",
     "text": [
      " 2 2\n",
      " 1 2\n",
      " 3 4\n"
     ]
    },
    {
     "name": "stdout",
     "output_type": "stream",
     "text": [
      "24\n"
     ]
    }
   ],
   "source": [
    "import numpy\n",
    "n,m=map(int,input().split())\n",
    "arr=numpy.array([input().strip().split() for _ in range(n)],int)\n",
    "arr=numpy.sum(arr, axis=0)\n",
    "print(numpy.prod(arr, axis=0))\n",
    "\n",
    "\n"
   ]
  },
  {
   "cell_type": "markdown",
   "id": "cb6e9704-e4a1-4f20-85fc-81802425daf8",
   "metadata": {},
   "source": [
    "## Q10 You are given a 2-D array with dimensions X.Your task is to perform the min function over axis  and then find the max of that.\n",
    "link-https://www.hackerrank.com/challenges/np-min-and-max/problem?isFullScreen=true"
   ]
  },
  {
   "cell_type": "code",
   "execution_count": 14,
   "id": "6bcafe2c-3e74-4bdf-854d-a455af14a626",
   "metadata": {},
   "outputs": [
    {
     "name": "stdin",
     "output_type": "stream",
     "text": [
      " 4 2\n",
      " 2 5\n",
      " 3 7\n",
      " 1 3\n",
      " 4 0\n"
     ]
    },
    {
     "name": "stdout",
     "output_type": "stream",
     "text": [
      "3\n"
     ]
    }
   ],
   "source": [
    "import numpy\n",
    "n,m=map(int,input().split())\n",
    "arr=numpy.array([input().strip().split() for _ in range(n)],int)\n",
    "arr=numpy.min(arr, axis=1)\n",
    "print(numpy.max(arr, axis=0))"
   ]
  },
  {
   "cell_type": "markdown",
   "id": "88890b6f-9666-4cf2-8202-48f2fd7c7d93",
   "metadata": {},
   "source": [
    "## Q11 You are given a 2-D array of size X.\n",
    "Your task is to find:\n",
    "\n",
    "The mean along axis \n",
    "The var along axis \n",
    "The std along axis\n",
    "link=https://www.hackerrank.com/challenges/np-mean-var-and-std/problem?isFullScreen=true"
   ]
  },
  {
   "cell_type": "code",
   "execution_count": 15,
   "id": "45545b6d-2fc5-4a25-ac4b-cdeceb14b7f5",
   "metadata": {},
   "outputs": [
    {
     "name": "stdin",
     "output_type": "stream",
     "text": [
      " 2 2\n",
      " 1 2\n",
      " 3 4\n"
     ]
    },
    {
     "name": "stdout",
     "output_type": "stream",
     "text": [
      "[ 1.5  3.5]\n",
      "[ 1.  1.]\n",
      "1.11803398875\n"
     ]
    }
   ],
   "source": [
    "import numpy\n",
    "n,m=map(int,input().split())\n",
    "arr=numpy.array([input().strip().split() for _ in range(n)],int)\n",
    "print(numpy.mean(arr, axis=1))\n",
    "print(numpy.var(arr, axis=0))\n",
    "a=numpy.std(arr, axis=None)\n",
    "print(round(a,11))\n"
   ]
  },
  {
   "cell_type": "markdown",
   "id": "5432e887-7b06-499a-9924-969568034580",
   "metadata": {},
   "source": [
    "## Q12 You are given two arrays  and . Both have dimensions of X.\n",
    "Your task is to compute their matrix product.\n",
    "link-https://www.hackerrank.com/challenges/np-dot-and-cross/problem?isFullScreen=true"
   ]
  },
  {
   "cell_type": "code",
   "execution_count": 16,
   "id": "8a7f0889-9454-41e9-b35f-03055e7ebb27",
   "metadata": {},
   "outputs": [
    {
     "name": "stdin",
     "output_type": "stream",
     "text": [
      " 2\n",
      " 1 2\n",
      " 3 4\n",
      " 1 2\n",
      " 3 4\n"
     ]
    },
    {
     "name": "stdout",
     "output_type": "stream",
     "text": [
      "[[ 7 10]\n",
      " [15 22]]\n"
     ]
    }
   ],
   "source": [
    "import numpy\n",
    "n=int(input())\n",
    "a=numpy.array([input().strip().split() for _ in range(n)],int)\n",
    "b=numpy.array([input().strip().split() for _ in range(n)],int)\n",
    "print(numpy.dot(a,b))"
   ]
  },
  {
   "cell_type": "markdown",
   "id": "a4fc1077-af97-4320-ab65-aba045fb7f9e",
   "metadata": {},
   "source": [
    "## Q13 You are given two arrays:  and .\n",
    "Your task is to compute their inner and outer product.\n",
    "link-https://www.hackerrank.com/challenges/np-inner-and-outer/problem?isFullScreen=true"
   ]
  },
  {
   "cell_type": "code",
   "execution_count": 17,
   "id": "edb789f3-5e8c-439c-b610-e447d87ec67f",
   "metadata": {},
   "outputs": [
    {
     "name": "stdin",
     "output_type": "stream",
     "text": [
      " 0 1\n",
      " 2 3\n"
     ]
    },
    {
     "name": "stdout",
     "output_type": "stream",
     "text": [
      "3\n",
      "[[0 0]\n",
      " [2 3]]\n"
     ]
    }
   ],
   "source": [
    "import numpy\n",
    "a=numpy.array(input().strip().split(' '),int)\n",
    "b=numpy.array(input().strip().split(' '),int)\n",
    "print(numpy.inner(a,b))\n",
    "print(numpy.outer(a,b))"
   ]
  },
  {
   "cell_type": "markdown",
   "id": "856a3d8c-a27b-4fea-88c0-9b4ab97878f3",
   "metadata": {},
   "source": [
    "## Q14 You are given the coefficients of a polynomial .\n",
    "Your task is to find the value of  at point .\n",
    "link-https://www.hackerrank.com/challenges/np-polynomials/problem?isFullScreen=true"
   ]
  },
  {
   "cell_type": "code",
   "execution_count": 18,
   "id": "f4414b43-fae8-44d7-ba09-9dea23068b0e",
   "metadata": {},
   "outputs": [
    {
     "name": "stdin",
     "output_type": "stream",
     "text": [
      " 1.1 2 3\n",
      " 0\n"
     ]
    },
    {
     "name": "stdout",
     "output_type": "stream",
     "text": [
      "3.0\n"
     ]
    }
   ],
   "source": [
    "import numpy\n",
    "arr=input().strip().split()\n",
    "arr=numpy.array(arr,float)\n",
    "x=float(input())\n",
    "print(numpy.polyval(arr,x))"
   ]
  },
  {
   "cell_type": "markdown",
   "id": "6eb23333-4b17-4a02-af00-973907e426ea",
   "metadata": {},
   "source": [
    "## Q15 You are given a square matrix  with dimensions X. Your task is to find the determinant. Note: Round the answer to 2 places after the decimal.\n",
    "link-https://www.hackerrank.com/challenges/np-linear-algebra/problem"
   ]
  },
  {
   "cell_type": "code",
   "execution_count": 19,
   "id": "a8db88a6-073f-4c02-be12-1475895533cc",
   "metadata": {},
   "outputs": [
    {
     "name": "stdin",
     "output_type": "stream",
     "text": [
      " 2\n",
      " 1.1 1.1\n",
      " 1.1 1.1\n"
     ]
    },
    {
     "name": "stdout",
     "output_type": "stream",
     "text": [
      "0.0\n"
     ]
    }
   ],
   "source": [
    "import numpy\n",
    "n=int(input())\n",
    "arr=numpy.array([input().strip().split() for _ in range(n)],float)\n",
    "a=numpy.linalg.det(arr)\n",
    "print(round(a,2))"
   ]
  },
  {
   "cell_type": "code",
   "execution_count": null,
   "id": "2a13ff60-0bb0-4463-9878-d6fad3c91106",
   "metadata": {},
   "outputs": [],
   "source": []
  }
 ],
 "metadata": {
  "kernelspec": {
   "display_name": "Python 3",
   "language": "python",
   "name": "python3"
  },
  "language_info": {
   "codemirror_mode": {
    "name": "ipython",
    "version": 3
   },
   "file_extension": ".py",
   "mimetype": "text/x-python",
   "name": "python",
   "nbconvert_exporter": "python",
   "pygments_lexer": "ipython3",
   "version": "3.8.8"
  }
 },
 "nbformat": 4,
 "nbformat_minor": 5
}
