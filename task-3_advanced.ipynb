{
 "cells": [
  {
   "cell_type": "markdown",
   "id": "effefb19-7308-44ff-868a-d111e07f6022",
   "metadata": {},
   "source": [
    "## Q1 Given the array of integers nums, you will choose two different indices i and j of that array. Return the maximum value of (nums[i]-1)*(nums[j]-1).\n",
    "link-https://leetcode.com/problems/maximum-product-of-two-elements-in-an-array/"
   ]
  },
  {
   "cell_type": "raw",
   "id": "6c723ce9-2733-41a8-b243-5c178e51fd67",
   "metadata": {},
   "source": [
    "class Solution:\n",
    "    def maxProduct(self, nums: List[int]) -> int:\n",
    "        max_n=0\n",
    "        nums.sort()\n",
    "        return (nums[len(nums)-1]-1)*(nums[len(nums)-2]-1)"
   ]
  },
  {
   "cell_type": "markdown",
   "id": "9f3ccdcf-27ec-4197-ae0c-54798ad5c971",
   "metadata": {},
   "source": [
    "### Q2 There are n soldiers standing in a line. Each soldier is assigned a unique rating value.You have to form a team of 3 soldiers amongst them under the following rules:\n",
    "### Choose 3 soldiers with index (i, j, k) with rating (rating[i], rating[j], rating[k]).\n",
    "### A team is valid if: (rating[i] < rating[j] < rating[k]) or (rating[i] > rating[j] > rating[k]) where (0 <= i < j < k < n).\n",
    "### Return the number of teams you can form given the conditions. (soldiers can be part of multiple teams).\n",
    "link-https://leetcode.com/problems/count-number-of-teams/"
   ]
  },
  {
   "cell_type": "raw",
   "id": "5ba755ef-1b62-4d06-ac4a-59a624fb03c6",
   "metadata": {},
   "source": [
    "class Solution:\n",
    "    def numTeams(self, rating: List[int]) -> int:\n",
    "        l=len(rating)\n",
    "        mylist=[]\n",
    "        for i in range(l):\n",
    "            lesser=0\n",
    "            greater=0\n",
    "            for j in range(i+1,l):\n",
    "                if rating[i]<rating[j]:\n",
    "                    greater+=1\n",
    "                else:\n",
    "                    lesser+=1\n",
    "            mylist.append([lesser,greater])\n",
    "        count=0\n",
    "        for i in range(l):\n",
    "            for j in range(i+1,l):\n",
    "                if rating[i]<rating[j]:\n",
    "                    count+=mylist[j][1]\n",
    "                else:\n",
    "                    count+=mylist[j][0]\n",
    "        return count"
   ]
  },
  {
   "cell_type": "markdown",
   "id": "f14a0eec-4fd7-44c1-9b82-a342b1940ea9",
   "metadata": {},
   "source": [
    "## Q3 Given two integer arrays startTime and endTime and given an integer queryTime.The ith student started doing their homework at the time startTime[i] and finished it at time endTime[i].Return the number of students doing their homework at time queryTime. More formally, return the number of students where queryTime lays in the interval [startTime[i], endTime[i]] inclusive.\n",
    "link-https://leetcode.com/problems/number-of-students-doing-homework-at-a-given-time/"
   ]
  },
  {
   "cell_type": "markdown",
   "id": "e9046f65-ca80-460a-a0d1-80d892c4c222",
   "metadata": {},
   "source": [
    "class Solution:\n",
    "    def busyStudent(self, startTime: List[int], endTime: List[int], queryTime: int) -> int:\n",
    "        count=0\n",
    "        for i in range(len(startTime)):\n",
    "            if(startTime[i]<=queryTime and endTime[i]>=queryTime):\n",
    "                count+=1\n",
    "        return count"
   ]
  },
  {
   "cell_type": "markdown",
   "id": "6a9a8803-5c2e-4121-b0df-397e29a483d0",
   "metadata": {},
   "source": [
    "## Q4 Given an integer num, return the number of steps to reduce it to zero.In one step, if the current number is even, you have to divide it by 2, otherwise, you have to subtract 1 from it.\n",
    "link-https://leetcode.com/problems/number-of-steps-to-reduce-a-number-to-zero/"
   ]
  },
  {
   "cell_type": "markdown",
   "id": "af32f42d-4603-4029-9467-23d5dce3d26b",
   "metadata": {},
   "source": [
    "class Solution:\n",
    "    def numberOfSteps(self, num: int) -> int:\n",
    "        count=0\n",
    "        while(num):\n",
    "            if(num%2==0):\n",
    "                num=int(num/2)\n",
    "                count+=1\n",
    "            else:\n",
    "                num=num-1\n",
    "                count+=1\n",
    "        return count"
   ]
  },
  {
   "cell_type": "markdown",
   "id": "cab08d6d-ced4-4516-bdab-54eedf225cd9",
   "metadata": {},
   "source": [
    "## Q5 Given an integer n, return an array ans of length n + 1 such that for each i (0 <= i <= n), ans[i] is the number of 1's in the binary representation of i.\n",
    "link-https://leetcode.com/problems/counting-bits/"
   ]
  },
  {
   "cell_type": "raw",
   "id": "c72073fd-1dfb-442e-976d-4a47959f0ada",
   "metadata": {},
   "source": [
    "class Solution:\n",
    "    def countBits(self, n: int) -> List[int]:\n",
    "        dp=[0] * (n+1)\n",
    "        offset=1\n",
    "        \n",
    "        for i in range(1, n+1):\n",
    "            if offset * 2 == i:\n",
    "                offset=i\n",
    "            dp[i] =1+ dp[i - offset]\n",
    "        return dp"
   ]
  }
 ],
 "metadata": {
  "kernelspec": {
   "display_name": "Python 3",
   "language": "python",
   "name": "python3"
  },
  "language_info": {
   "codemirror_mode": {
    "name": "ipython",
    "version": 3
   },
   "file_extension": ".py",
   "mimetype": "text/x-python",
   "name": "python",
   "nbconvert_exporter": "python",
   "pygments_lexer": "ipython3",
   "version": "3.8.8"
  }
 },
 "nbformat": 4,
 "nbformat_minor": 5
}
