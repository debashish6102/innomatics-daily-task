{
 "cells": [
  {
   "cell_type": "markdown",
   "id": "2b90b41a-7cfe-432c-a9d4-3082856cffb6",
   "metadata": {},
   "source": [
    "## Q1.Given an array nums. We define a running sum of an array as runningSum[i] = sum(nums[0]…nums[i]).Return the running sum of nums."
   ]
  },
  {
   "cell_type": "raw",
   "id": "e426084a-8b26-42ef-85bd-61c586ee65e3",
   "metadata": {},
   "source": [
    "class Solution:\n",
    "    def runningSum(self, nums: List[int]) -> List[int]:\n",
    "        for i in range(1,len(nums)):\n",
    "            nums[i]=nums[i]+nums[i-1];\n",
    "        \n",
    "        return nums"
   ]
  },
  {
   "cell_type": "markdown",
   "id": "505cc245-253c-47e4-89ab-d3e0a6e7a714",
   "metadata": {},
   "source": [
    "## Q2. Given the array nums consisting of 2n elements in the form [x1,x2,...,xn,y1,y2,...,yn].Return the array in the form [x1,y1,x2,y2,...,xn,yn]."
   ]
  },
  {
   "cell_type": "raw",
   "id": "996ba5d7-53cf-4464-9127-c02cea145eed",
   "metadata": {},
   "source": [
    "class Solution:\n",
    "    def shuffle(self, nums: List[int], n: int) -> List[int]:\n",
    "        a = []\n",
    "        for i in range(n):\n",
    "            a.append(nums[i])\n",
    "            a.append(nums[n+i])\n",
    "        return a"
   ]
  },
  {
   "cell_type": "markdown",
   "id": "71fb6325-9eec-4c81-b570-b96cdb993c84",
   "metadata": {},
   "source": [
    "## Q3.There are n kids with candies. You are given an integer array candies, where each candies[i] represents the number of candies the ith kid has, and an integer extraCandies, denoting the number of extra candies that you have.\n",
    "\n",
    "## Return a boolean array result of length n, where result[i] is true if, after giving the ith kid all the extraCandies, they will have the greatest number of candies among all the kids, or false otherwise.\n",
    "\n",
    " ## Note that multiple kids can have the greatest number of candies."
   ]
  },
  {
   "cell_type": "raw",
   "id": "4436af5c-7715-473b-8fa3-c3b136b2ba67",
   "metadata": {},
   "source": [
    "class Solution:\n",
    "    def kidsWithCandies(self, candies: List[int], extraCandies: int) -> List[bool]:\n",
    "        a=[]\n",
    "        for i in range(len(candies)):\n",
    "            if max(candies)<=candies[i]+extraCandies:\n",
    "                a.append(True)\n",
    "            else:\n",
    "                a.append(False)\n",
    "        return a"
   ]
  }
 ],
 "metadata": {
  "kernelspec": {
   "display_name": "Python 3",
   "language": "python",
   "name": "python3"
  },
  "language_info": {
   "codemirror_mode": {
    "name": "ipython",
    "version": 3
   },
   "file_extension": ".py",
   "mimetype": "text/x-python",
   "name": "python",
   "nbconvert_exporter": "python",
   "pygments_lexer": "ipython3",
   "version": "3.8.8"
  }
 },
 "nbformat": 4,
 "nbformat_minor": 5
}
