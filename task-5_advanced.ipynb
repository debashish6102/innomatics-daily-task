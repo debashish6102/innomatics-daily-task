{
 "cells": [
  {
   "cell_type": "markdown",
   "id": "31606354-426f-42e0-ac06-1feb9e57f238",
   "metadata": {},
   "source": [
    "## Q1 Given an integer array nums of unique elements, return all possible subsets (the power set).The solution set must not contain duplicate subsets. Return the solution in any order."
   ]
  },
  {
   "cell_type": "raw",
   "id": "16db310f-3cea-4f5f-8b34-202c816194a1",
   "metadata": {},
   "source": [
    "class Solution:\n",
    "    def subsets(self, nums: List[int]) -> List[List[int]]:\n",
    "        res = []\n",
    "\n",
    "        for i in range(2**len(nums)):\n",
    "            curr = []\n",
    "            for j in range(len(nums)):\n",
    "                i, flag = divmod(i, 2)\n",
    "                if flag:\n",
    "                    curr.append(nums[j])\n",
    "\n",
    "            res.append(curr)\n",
    "            \n",
    "        return res"
   ]
  },
  {
   "cell_type": "markdown",
   "id": "9dc8eaa4-b5a1-4718-bb64-fc7e713ab018",
   "metadata": {},
   "source": [
    "## Q2 The Hamming distance between two integers is the number of positions at which the corresponding bits are different.Given two integers x and y, return the Hamming distance between them."
   ]
  },
  {
   "cell_type": "raw",
   "id": "320d5f73-2d49-4ca3-ae72-a2a275973055",
   "metadata": {},
   "source": [
    "class Solution:\n",
    "    def hammingDistance(self, x: int, y: int) -> int:\n",
    "        if y < x:\n",
    "            y, x = x, y\n",
    "        count = 0\n",
    "        while y:\n",
    "            count += (y&1) ^ (x&1)\n",
    "            x>>=1\n",
    "            y>>=1\n",
    "        return count"
   ]
  },
  {
   "cell_type": "markdown",
   "id": "1204ad10-0ca4-41af-8ff1-a9b3b212d1a0",
   "metadata": {},
   "source": [
    "## Q3 Given an integer array nums where every element appears three times except for one, which appears exactly once. Find the single element and return it.You must implement a solution with a linear runtime complexity and use only constant extra space."
   ]
  },
  {
   "cell_type": "raw",
   "id": "31357209-8b6b-4d99-9195-fcdd43008648",
   "metadata": {},
   "source": [
    "class Solution:\n",
    "def singleNumber(self, nums: List[int]) -> int:\n",
    "num = set(nums)\n",
    "for i in num:\n",
    "if nums.count(i) == 1:\n",
    "return i"
   ]
  },
  {
   "cell_type": "code",
   "execution_count": null,
   "id": "afd13923-30ac-4b01-a897-baf0066b44c4",
   "metadata": {},
   "outputs": [],
   "source": []
  }
 ],
 "metadata": {
  "kernelspec": {
   "display_name": "Python 3",
   "language": "python",
   "name": "python3"
  },
  "language_info": {
   "codemirror_mode": {
    "name": "ipython",
    "version": 3
   },
   "file_extension": ".py",
   "mimetype": "text/x-python",
   "name": "python",
   "nbconvert_exporter": "python",
   "pygments_lexer": "ipython3",
   "version": "3.8.8"
  }
 },
 "nbformat": 4,
 "nbformat_minor": 5
}
