{
 "cells": [
  {
   "cell_type": "markdown",
   "id": "f47dba6a-ad3d-415b-880f-bc1058b1a1d5",
   "metadata": {},
   "source": [
    "## Q1.Say \"Hello, World!\" With Python ##"
   ]
  },
  {
   "cell_type": "code",
   "execution_count": 1,
   "id": "5b276d50-ebf1-426a-b32a-d8cbe9591b80",
   "metadata": {},
   "outputs": [
    {
     "name": "stdout",
     "output_type": "stream",
     "text": [
      "Hello, World!\n"
     ]
    }
   ],
   "source": [
    "print(\"Hello, World!\")"
   ]
  },
  {
   "cell_type": "markdown",
   "id": "07f88e32-94c4-451b-8d80-a8904a63619e",
   "metadata": {},
   "source": [
    "## Q2. Python If-Else ##\n",
    "\n"
   ]
  },
  {
   "cell_type": "code",
   "execution_count": 2,
   "id": "8037909b-1280-4df8-84af-d67199072d3a",
   "metadata": {},
   "outputs": [
    {
     "name": "stdin",
     "output_type": "stream",
     "text": [
      " 4\n"
     ]
    },
    {
     "name": "stdout",
     "output_type": "stream",
     "text": [
      "Not Weird\n"
     ]
    }
   ],
   "source": [
    "import math\n",
    "import os\n",
    "import random\n",
    "import re\n",
    "import sys\n",
    "n=int(input())\n",
    "if(n%2==0 and n>20 ):\n",
    "    print(\"Not Weird\")\n",
    "else:\n",
    "    if(n%2==0 and (n>=2 and n<=5)):\n",
    "        print(\"Not Weird\") \n",
    "    else:\n",
    "        if(n%2==0 and(n>=6 and n<=20)):\n",
    "            print(\"Weird\")      \n",
    "        else:\n",
    "            print(\"Weird\")"
   ]
  },
  {
   "cell_type": "markdown",
   "id": "1dcea566-fcb9-4c36-a4e4-5b108efec7f3",
   "metadata": {},
   "source": [
    "## Q3. Arithmetic Operators ##\n",
    "\n"
   ]
  },
  {
   "cell_type": "code",
   "execution_count": 3,
   "id": "2cb7109c-37a2-4afe-9736-b64c052a3840",
   "metadata": {},
   "outputs": [
    {
     "name": "stdin",
     "output_type": "stream",
     "text": [
      " 1\n",
      " 2\n"
     ]
    },
    {
     "name": "stdout",
     "output_type": "stream",
     "text": [
      "3\n",
      "-1\n",
      "2\n"
     ]
    }
   ],
   "source": [
    "if __name__ == '__main__':\n",
    "    a = int(input())\n",
    "    b = int(input())\n",
    "    print(a+b)\n",
    "    print(a-b)\n",
    "    print(a*b)\n"
   ]
  },
  {
   "cell_type": "markdown",
   "id": "1b5e8157-8a4d-4d23-a2ba-381b223d83c0",
   "metadata": {},
   "source": [
    "## Q4. Python: Division ##\n",
    "\n"
   ]
  },
  {
   "cell_type": "code",
   "execution_count": 4,
   "id": "ae43c1f7-959c-4745-8e5e-066652e6f93a",
   "metadata": {},
   "outputs": [
    {
     "name": "stdin",
     "output_type": "stream",
     "text": [
      " 5\n",
      " 2\n"
     ]
    },
    {
     "name": "stdout",
     "output_type": "stream",
     "text": [
      "2\n",
      "2.5\n"
     ]
    }
   ],
   "source": [
    "if __name__ == '__main__':\n",
    "    a = int(input())\n",
    "    b = int(input())\n",
    "    print(a//b)\n",
    "    print(a/b)"
   ]
  },
  {
   "cell_type": "markdown",
   "id": "89bb009b-4776-4072-ae3e-ab8bfa4cf8c0",
   "metadata": {},
   "source": [
    "## Q5. Loops ##"
   ]
  },
  {
   "cell_type": "code",
   "execution_count": 5,
   "id": "2524f632-c231-4bb1-9e47-ccb89c5e2fcf",
   "metadata": {},
   "outputs": [
    {
     "name": "stdin",
     "output_type": "stream",
     "text": [
      " 3\n"
     ]
    },
    {
     "name": "stdout",
     "output_type": "stream",
     "text": [
      "0\n",
      "1\n",
      "4\n"
     ]
    }
   ],
   "source": [
    "if __name__ == '__main__':\n",
    "    n = int(input())\n",
    "    for i in range(n):\n",
    "        print(i*i)"
   ]
  },
  {
   "cell_type": "markdown",
   "id": "727c957b-84ae-47bf-be2b-4306cb828e9f",
   "metadata": {},
   "source": [
    "## Q6. Write a function ##"
   ]
  },
  {
   "cell_type": "code",
   "execution_count": 6,
   "id": "e210e068-e129-46d5-b7ac-e59712de1652",
   "metadata": {},
   "outputs": [],
   "source": [
    "def is_leap(year):\n",
    "    leap = False\n",
    "    if(year % 4 == 0 and (year % 400 == 0 or year % 100 != 0)):\n",
    "        leap=True\n",
    "    \n",
    "\n",
    "    return leap"
   ]
  },
  {
   "cell_type": "markdown",
   "id": "def95097-10c1-415d-b2aa-23e5732d71cd",
   "metadata": {},
   "source": [
    "## Q7. Print Function ##"
   ]
  },
  {
   "cell_type": "code",
   "execution_count": 7,
   "id": "47c1ce13-c932-46a6-a093-fe6f6b2d51ed",
   "metadata": {},
   "outputs": [
    {
     "name": "stdin",
     "output_type": "stream",
     "text": [
      " 3\n"
     ]
    },
    {
     "name": "stdout",
     "output_type": "stream",
     "text": [
      "123\n"
     ]
    }
   ],
   "source": [
    "print(*range(1, int(input())+1), sep='')"
   ]
  },
  {
   "cell_type": "code",
   "execution_count": null,
   "id": "0e01b6b7-2aca-4bf2-93e2-31c73eb65210",
   "metadata": {},
   "outputs": [],
   "source": []
  }
 ],
 "metadata": {
  "kernelspec": {
   "display_name": "Python 3",
   "language": "python",
   "name": "python3"
  },
  "language_info": {
   "codemirror_mode": {
    "name": "ipython",
    "version": 3
   },
   "file_extension": ".py",
   "mimetype": "text/x-python",
   "name": "python",
   "nbconvert_exporter": "python",
   "pygments_lexer": "ipython3",
   "version": "3.8.8"
  }
 },
 "nbformat": 4,
 "nbformat_minor": 5
}
