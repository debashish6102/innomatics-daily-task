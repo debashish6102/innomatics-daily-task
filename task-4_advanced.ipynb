{
 "cells": [
  {
   "cell_type": "markdown",
   "id": "2971ed86-03b7-4129-b7f1-8967b243ca97",
   "metadata": {},
   "source": [
    "## Q1. Given a non-empty array of integers nums, every element appears twice except for one. Find that single one.You must implement a solution with a linear runtime complexity and use only constant extra space.\n",
    "link-https://leetcode.com/problems/single-number/"
   ]
  },
  {
   "cell_type": "raw",
   "id": "ee313de5-beb0-4f95-8e9e-8367d69bf1e4",
   "metadata": {},
   "source": [
    "class Solution:\n",
    "    def singleNumber(self, nums: List[int]) -> int:\n",
    "       nums.sort()\n",
    "       for i in range(0, len(nums), 2):\n",
    "            if (i == len(nums) - 1) or (nums[i] != nums[i+1]):\n",
    "                return nums[i]\n",
    "       return 0"
   ]
  },
  {
   "cell_type": "markdown",
   "id": "3045c5ab-55c0-4629-9bc2-c51cfb77ce99",
   "metadata": {},
   "source": [
    "## Q2 .Given an integer array arr. You have to sort the integers in the array in ascending order by the number of 1's in their binary representation and in case of two or more integers have the same number of 1's you have to sort them in ascending order.Return the sorted array.\n",
    "link-https://leetcode.com/problems/sort-integers-by-the-number-of-1-bits/"
   ]
  },
  {
   "cell_type": "raw",
   "id": "395d846c-b66b-4e49-88b5-8c4dad244b7f",
   "metadata": {},
   "source": [
    "class Solution:\n",
    "    def countBits(self, n):\n",
    "        count = 0\n",
    "        while n:\n",
    "            n &= n - 1\n",
    "            count += 1\n",
    "            \n",
    "        return count\n",
    "        \n",
    "    def sortByBits(self, arr: List[int]) -> List[int]:\n",
    "        d = {}\n",
    "        arr.sort()\n",
    "        \n",
    "        for num in arr:\n",
    "            bits = self.countBits(num)\n",
    "            if d.get(bits):\n",
    "                d[bits].append(num)\n",
    "                d[bits] = [num]\n",
    "                \n",
    "        ans = []\n",
    "        for i in range(15):\n",
    "            if d.get(i):\n",
    "                ans += d[i] \n",
    "            \n",
    "        return ans\n",
    "        "
   ]
  },
  {
   "cell_type": "markdown",
   "id": "289eadea-30a7-4308-bf5f-588195158258",
   "metadata": {},
   "source": [
    "## Q3 Given an integer array nums, in which exactly two elements appear only once and all the other elements appear exactly twice. Find the two elements that appear only once. You can return the answer in any order.You must write an algorithm that runs in linear runtime complexity and uses only constant extra space.\n",
    "link-https://leetcode.com/problems/single-number-iii/"
   ]
  },
  {
   "cell_type": "raw",
   "id": "e7e854bc-37ef-4201-abd9-a8f5f3d5fcfa",
   "metadata": {},
   "source": [
    "class Solution:\n",
    "    def singleNumber(self, nums: List[int]) -> List[int]:\n",
    "        \n",
    "        elements = []\n",
    "        for i in nums:\n",
    "            if nums.count(i) == 1:\n",
    "                elements.append(i)\n",
    "                if len(elements) == 2:\n",
    "                    return elements\n",
    "        return elements"
   ]
  },
  {
   "cell_type": "markdown",
   "id": "95c66ac0-278f-4714-8314-2dd1fc06f7cb",
   "metadata": {},
   "source": [
    "##  Q4 Given an integer array nums of unique elements, return all possible subsets (the power set).The solution set must not contain duplicate subsets. Return the solution in any order.\n",
    "link-https://leetcode.com/problems/subsets/"
   ]
  },
  {
   "cell_type": "raw",
   "id": "4a8a7a91-e7e0-44fb-a6c6-24f1afc6d2c2",
   "metadata": {},
   "source": [
    "class Solution:\n",
    "    def subsets(self, nums: List[int]) -> List[List[int]]:\n",
    "        res = []\n",
    "\n",
    "        for i in range(2**len(nums)):\n",
    "            curr = []\n",
    "            for j in range(len(nums)):\n",
    "                i, flag = divmod(i, 2)\n",
    "                if flag:\n",
    "                    curr.append(nums[j])\n",
    "\n",
    "            res.append(curr)\n",
    "            \n",
    "        return res\n"
   ]
  }
 ],
 "metadata": {
  "kernelspec": {
   "display_name": "Python 3",
   "language": "python",
   "name": "python3"
  },
  "language_info": {
   "codemirror_mode": {
    "name": "ipython",
    "version": 3
   },
   "file_extension": ".py",
   "mimetype": "text/x-python",
   "name": "python",
   "nbconvert_exporter": "python",
   "pygments_lexer": "ipython3",
   "version": "3.8.8"
  }
 },
 "nbformat": 4,
 "nbformat_minor": 5
}
