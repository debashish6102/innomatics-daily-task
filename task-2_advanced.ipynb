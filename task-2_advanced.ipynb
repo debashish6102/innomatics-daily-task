{
 "cells": [
  {
   "cell_type": "markdown",
   "id": "5d960171-901b-47b7-a030-425d25c73c36",
   "metadata": {},
   "source": [
    "## Q1 . Given a valid (IPv4) IP address, return a defanged version of that IP address.\n",
    "\n",
    "## A defanged IP address replaces every period \".\" with \"[.]\".\n",
    "link=https://leetcode.com/problems/defanging-an-ip-address/"
   ]
  },
  {
   "cell_type": "raw",
   "id": "decce158-2a15-430f-87ec-45f9ac81bed1",
   "metadata": {},
   "source": [
    "class Solution:\n",
    "    def defangIPaddr(self, address: str) -> str:\n",
    "        x=address.replace('.',\"[.]\")\n",
    "        return x"
   ]
  },
  {
   "cell_type": "markdown",
   "id": "301cfc95-3486-4341-904e-f525662934c1",
   "metadata": {},
   "source": [
    "## Q2. Given an array nums of integers, return how many of them contain an even number of digits.\n",
    "link-https://leetcode.com/problems/find-numbers-with-even-number-of-digits/"
   ]
  },
  {
   "cell_type": "markdown",
   "id": "aaa0ede6-a174-4edf-bb5d-139ccab4392d",
   "metadata": {},
   "source": [
    "class Solution:\n",
    "    def findNumbers(self, nums: List[int]) -> int:\n",
    "        count=0\n",
    "        for i in range(len(nums)):\n",
    "            if(len(str(nums[i]))%2==0):\n",
    "                count+=1\n",
    "        return count"
   ]
  },
  {
   "cell_type": "markdown",
   "id": "970114c1-a613-4802-97a2-82fecd5a9506",
   "metadata": {},
   "source": [
    "## Q3 Given an array of integers nums, return the number of good pairs.\n",
    "\n",
    "## A pair (i, j) is called good if nums[i] == nums[j] and i < j.\n",
    "link-https://leetcode.com/problems/number-of-good-pairs/"
   ]
  },
  {
   "cell_type": "raw",
   "id": "045848db-aa01-41e1-ac51-25a32bcb9030",
   "metadata": {},
   "source": [
    "class Solution:\n",
    "    def numIdenticalPairs(self, nums: List[int]) -> int:\n",
    "        count=0\n",
    "        for i in range(len(nums)-1):\n",
    "            for j in range(i+1,len(nums)):\n",
    "                if(nums[i]==nums[j]):\n",
    "                    count+=1\n",
    "        return count"
   ]
  },
  {
   "cell_type": "markdown",
   "id": "2221fd96-676a-4e83-af82-0530734aa507",
   "metadata": {},
   "source": [
    "## Q4 . Given the array nums, for each nums[i] find out how many numbers in the array are smaller than it. That is, for each nums[i] you have to count the number of valid j's such that j != i and nums[j] < nums[i].\n",
    "\n",
    "## Return the answer in an array.\n",
    "link-https://leetcode.com/problems/how-many-numbers-are-smaller-than-the-current-number/"
   ]
  },
  {
   "cell_type": "raw",
   "id": "ea1f31c3-400f-40fb-8228-02c7a3c6323d",
   "metadata": {},
   "source": [
    "class Solution:\n",
    "    def smallerNumbersThanCurrent(self, nums: List[int]) -> List[int]:\n",
    "        count=0\n",
    "        a=[]\n",
    "        for i in range(len(nums)):\n",
    "            for j in range(len(nums)):\n",
    "                if(nums[i]>nums[j]):\n",
    "                    count+=1\n",
    "            a.append(count)\n",
    "            count=0\n",
    "        return a\n",
    "                "
   ]
  },
  {
   "cell_type": "markdown",
   "id": "dc1dc3be-26dd-460b-92a3-528a1faf0495",
   "metadata": {},
   "source": [
    "## Q5 Given an integer number n, return the difference between the product of its digits and the sum of its digits.\n",
    "link-https://leetcode.com/problems/subtract-the-product-and-sum-of-digits-of-an-integer/"
   ]
  },
  {
   "cell_type": "raw",
   "id": "a698b873-a3ce-4b3f-89c6-3b5beee63ebf",
   "metadata": {},
   "source": [
    "class Solution:\n",
    "    def subtractProductAndSum(self, n: int) -> int:\n",
    "        sum_n=0\n",
    "        product=1\n",
    "        while(n):\n",
    "            sum_n=sum_n+int(n%10)\n",
    "            product=product*int(n%10)\n",
    "            n=int(n/10)\n",
    "        return product-sum_n"
   ]
  },
  {
   "cell_type": "markdown",
   "id": "3970a63f-3261-466c-8283-479a6a1b9f84",
   "metadata": {},
   "source": [
    "## Q6 Given an integer n and an integer start.Define an array nums where nums[i] = start + 2*i (0-indexed) and n == nums.length.\n",
    "## Return the bitwise XOR of all elements of nums.\n",
    "link-https://leetcode.com/problems/xor-operation-in-an-array/"
   ]
  },
  {
   "cell_type": "raw",
   "id": "5adf5846-9b3a-4deb-a8a5-5f577e3590be",
   "metadata": {},
   "source": [
    "class Solution:\n",
    "    def xorOperation(self, n: int, start: int) -> int:\n",
    "        nums=[]\n",
    "        for i in range(n):\n",
    "            nums.append(start+2*i)\n",
    "        xor=nums[0]\n",
    "        for i in range(1,n):\n",
    "            xor=xor^nums[i]\n",
    "        return xor"
   ]
  }
 ],
 "metadata": {
  "kernelspec": {
   "display_name": "Python 3",
   "language": "python",
   "name": "python3"
  },
  "language_info": {
   "codemirror_mode": {
    "name": "ipython",
    "version": 3
   },
   "file_extension": ".py",
   "mimetype": "text/x-python",
   "name": "python",
   "nbconvert_exporter": "python",
   "pygments_lexer": "ipython3",
   "version": "3.8.8"
  }
 },
 "nbformat": 4,
 "nbformat_minor": 5
}
